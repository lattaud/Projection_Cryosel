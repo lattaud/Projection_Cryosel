{
 "cells": [
  {
   "cell_type": "code",
   "execution_count": 2,
   "metadata": {},
   "outputs": [],
   "source": [
    "from IonModel_Libraries import *"
   ]
  },
  {
   "cell_type": "code",
   "execution_count": 10,
   "metadata": {},
   "outputs": [
    {
     "name": "stdout",
     "output_type": "stream",
     "text": [
      "7.8535 s   N : scalar , E scalar\n",
      "0.3169 s   N : scalar , E array\n",
      "0.1262 s   N : array  , E scalar\n",
      "0.0024 s   N : array  , E array\n"
     ]
    }
   ],
   "source": [
    "A = Parameters()\n",
    "A.IonModel = \"CDMS\" # \"CDMS\" and \"Rouven\" available\n",
    "A.Fano = 0.5\n",
    "A.Target = \"Ge\"\n",
    "nmc=200\n",
    "N = np.random.randint(0,100,nmc) \n",
    "E = np.random.random(size=nmc)*100\n",
    "\n",
    "# check the 4 different functions give the same result\n",
    "for i in range(len(N)):\n",
    "    m1 = Prob_Ion(N[i],E[i],A)\n",
    "    m2 = Prob_Ion(N[i],E,A)[i]\n",
    "    m3 = Prob_Ion(N,E[i],A)[i]\n",
    "    m4 = Prob_Ion(N,E,A)[i]\n",
    "    \n",
    "    allworks = (np.allclose(m1,m2) & np.allclose(m1,m3) & np.allclose(m1,m4))\n",
    "    assert allworks\n",
    "\n",
    "start=time.time()\n",
    "for i in range(len(N)):\n",
    "    for j in range(len(E)):\n",
    "        m1 = Prob_Ion(N[i],E[j],A)\n",
    "end=time.time()\n",
    "totaltime = end-start  \n",
    "print(\"{:2.4f}\".format(totaltime)+\" s   N : scalar , E scalar\")\n",
    "\n",
    "start=time.time()\n",
    "for i in range(len(N)):\n",
    "    m1 = Prob_Ion(N[i],E,A)\n",
    "end=time.time()\n",
    "totaltime = end-start  \n",
    "print(\"{:2.4f}\".format(totaltime)+\" s   N : scalar , E array\")  \n",
    "\n",
    "start=time.time()\n",
    "for j in range(len(E)):\n",
    "    m1 = Prob_Ion(N,E[j],A)\n",
    "end=time.time()\n",
    "totaltime = end-start  \n",
    "print(\"{:2.4f}\".format(totaltime)+\" s   N : array  , E scalar\")\n",
    "\n",
    "start=time.time()\n",
    "m1 = Prob_Ion(N,E,A)\n",
    "end=time.time()\n",
    "totaltime = end-start  \n",
    "print(\"{:2.4f}\".format(totaltime)+\" s   N : array  , E array\")  \n",
    "\n"
   ]
  },
  {
   "cell_type": "code",
   "execution_count": null,
   "metadata": {},
   "outputs": [],
   "source": []
  },
  {
   "cell_type": "code",
   "execution_count": null,
   "metadata": {},
   "outputs": [],
   "source": []
  }
 ],
 "metadata": {
  "kernelspec": {
   "display_name": "Anaconda3",
   "language": "python",
   "name": "anaconda3"
  },
  "language_info": {
   "codemirror_mode": {
    "name": "ipython",
    "version": 3
   },
   "file_extension": ".py",
   "mimetype": "text/x-python",
   "name": "python",
   "nbconvert_exporter": "python",
   "pygments_lexer": "ipython3",
   "version": "3.7.6"
  }
 },
 "nbformat": 4,
 "nbformat_minor": 4
}
